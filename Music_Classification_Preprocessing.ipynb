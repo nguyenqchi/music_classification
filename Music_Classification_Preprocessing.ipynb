{
  "nbformat": 4,
  "nbformat_minor": 0,
  "metadata": {
    "colab": {
      "provenance": [],
      "authorship_tag": "ABX9TyNvgAK5z4o1bHGIk/5pv+DT",
      "include_colab_link": true
    },
    "kernelspec": {
      "name": "python3",
      "display_name": "Python 3"
    },
    "language_info": {
      "name": "python"
    }
  },
  "cells": [
    {
      "cell_type": "markdown",
      "metadata": {
        "id": "view-in-github",
        "colab_type": "text"
      },
      "source": [
        "<a href=\"https://colab.research.google.com/github/nguyenqchi/music_classification/blob/main/Music_Classification_Preprocessing.ipynb\" target=\"_parent\"><img src=\"https://colab.research.google.com/assets/colab-badge.svg\" alt=\"Open In Colab\"/></a>"
      ]
    },
    {
      "cell_type": "markdown",
      "source": [
        "Import Libraries"
      ],
      "metadata": {
        "id": "XVpfTUTbrbKb"
      }
    },
    {
      "cell_type": "code",
      "execution_count": null,
      "metadata": {
        "id": "-c4fiSM5qkUi"
      },
      "outputs": [],
      "source": []
    },
    {
      "cell_type": "markdown",
      "source": [
        "Import Dataset"
      ],
      "metadata": {
        "id": "uflPj-fUrdr3"
      }
    },
    {
      "cell_type": "code",
      "source": [],
      "metadata": {
        "id": "dgX8omnzrgXG"
      },
      "execution_count": null,
      "outputs": []
    },
    {
      "cell_type": "markdown",
      "source": [
        "File Normalization"
      ],
      "metadata": {
        "id": "X1x4kH0PrjS9"
      }
    },
    {
      "cell_type": "code",
      "source": [],
      "metadata": {
        "id": "6RLDlw1Grjt5"
      },
      "execution_count": null,
      "outputs": []
    },
    {
      "cell_type": "markdown",
      "source": [
        "Segmentation"
      ],
      "metadata": {
        "id": "e-ZkvSTtrj_S"
      }
    },
    {
      "cell_type": "code",
      "source": [],
      "metadata": {
        "id": "8sx-YPn2rkXj"
      },
      "execution_count": null,
      "outputs": []
    },
    {
      "cell_type": "markdown",
      "source": [
        "Feature Extraction"
      ],
      "metadata": {
        "id": "E3oTWAvxr0Pa"
      }
    },
    {
      "cell_type": "code",
      "source": [],
      "metadata": {
        "id": "_0C-E7hAr1mk"
      },
      "execution_count": null,
      "outputs": []
    },
    {
      "cell_type": "markdown",
      "source": [
        "Split to Training, Validation, Testing data"
      ],
      "metadata": {
        "id": "yx8eFO0Ar6Td"
      }
    },
    {
      "cell_type": "code",
      "source": [],
      "metadata": {
        "id": "mCJqLKgpr-l4"
      },
      "execution_count": null,
      "outputs": []
    }
  ]
}